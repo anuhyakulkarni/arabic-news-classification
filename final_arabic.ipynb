{
 "cells": [
  {
   "cell_type": "code",
   "execution_count": 1,
   "id": "sealed-friendly",
   "metadata": {},
   "outputs": [],
   "source": [
    "import os \n",
    "path= \"Culture/\""
   ]
  },
  {
   "cell_type": "code",
   "execution_count": 2,
   "id": "passive-meaning",
   "metadata": {},
   "outputs": [],
   "source": [
    "import numpy as np \n",
    "import pandas as pd\n",
    "import tensorflow as tf\n",
    "import matplotlib.pyplot as plt\n",
    "from sklearn.metrics import confusion_matrix\n",
    "from nltk.corpus import stopwords"
   ]
  },
  {
   "cell_type": "code",
   "execution_count": 3,
   "id": "superb-commission",
   "metadata": {},
   "outputs": [],
   "source": [
    "import os \n",
    "import pandas as pd"
   ]
  },
  {
   "cell_type": "code",
   "execution_count": 4,
   "id": "entire-qatar",
   "metadata": {},
   "outputs": [],
   "source": [
    "list1=[]\n",
    "paths= [\"Culture/\",\"Politics/\",\"Sports/\",\"Medical/\",\"Finance/\",\"Religion/\",\"Tech/\"]\n",
    " for path in paths:\n",
    "    all_files=os.listdir(path)\n",
    "     for filename in all_files:\n",
    "        with open(path+filename, encoding =\"utf8\") as f:\n",
    "            df=(f.read())\n",
    "            list1.append([df,path[:-1]]) #exclude the slash \n",
    "dff=pd.DataFrame(list1,columns=['news_data','category'])"
   ]
  },
  {
   "cell_type": "code",
   "execution_count": 5,
   "id": "soviet-possibility",
   "metadata": {},
   "outputs": [],
   "source": [
    "dff.to_csv(\"finaldf.csv\",index=False)"
   ]
  },
  {
   "cell_type": "code",
   "execution_count": 7,
   "id": "preceding-player",
   "metadata": {},
   "outputs": [],
   "source": [
    "df1=pd.read_csv('finaldf.csv')"
   ]
  },
  {
   "cell_type": "markdown",
   "id": "arranged-standing",
   "metadata": {},
   "source": []
  },
  {
   "cell_type": "code",
   "execution_count": 8,
   "id": "trained-morris",
   "metadata": {},
   "outputs": [
    {
     "data": {
      "text/html": [
       "<div>\n",
       "<style scoped>\n",
       "    .dataframe tbody tr th:only-of-type {\n",
       "        vertical-align: middle;\n",
       "    }\n",
       "\n",
       "    .dataframe tbody tr th {\n",
       "        vertical-align: top;\n",
       "    }\n",
       "\n",
       "    .dataframe thead th {\n",
       "        text-align: right;\n",
       "    }\n",
       "</style>\n",
       "<table border=\"1\" class=\"dataframe\">\n",
       "  <thead>\n",
       "    <tr style=\"text-align: right;\">\n",
       "      <th></th>\n",
       "      <th>news_data</th>\n",
       "      <th>category</th>\n",
       "    </tr>\n",
       "  </thead>\n",
       "  <tbody>\n",
       "    <tr>\n",
       "      <th>0</th>\n",
       "      <td>ينظم معهد الشارقة للفنون معرضاً فنياً تحت عنوا...</td>\n",
       "      <td>Culture</td>\n",
       "    </tr>\n",
       "    <tr>\n",
       "      <th>1</th>\n",
       "      <td>تقيم الفنانة ليتا كابيلوت معرضاً في مطلع العام...</td>\n",
       "      <td>Culture</td>\n",
       "    </tr>\n",
       "    <tr>\n",
       "      <th>2</th>\n",
       "      <td>تتواصل الليلة مسيرة التحدّي والمتعة والإثارة ض...</td>\n",
       "      <td>Culture</td>\n",
       "    </tr>\n",
       "    <tr>\n",
       "      <th>3</th>\n",
       "      <td>عقدت ظهر أمس الأول في قصر الثقافة في الشارقة ا...</td>\n",
       "      <td>Culture</td>\n",
       "    </tr>\n",
       "    <tr>\n",
       "      <th>4</th>\n",
       "      <td>اختارت صحيفة «التايمز» جورج أورويل ليحل في الم...</td>\n",
       "      <td>Culture</td>\n",
       "    </tr>\n",
       "    <tr>\n",
       "      <th>...</th>\n",
       "      <td>...</td>\n",
       "      <td>...</td>\n",
       "    </tr>\n",
       "    <tr>\n",
       "      <th>45495</th>\n",
       "      <td>مع إسدال الستار على معرض جيتكس 2013 الدولي الم...</td>\n",
       "      <td>Tech</td>\n",
       "    </tr>\n",
       "    <tr>\n",
       "      <th>45496</th>\n",
       "      <td>أبوظبي: «الخليج» حصل محمد نصر عابدين الرئيس ال...</td>\n",
       "      <td>Tech</td>\n",
       "    </tr>\n",
       "    <tr>\n",
       "      <th>45497</th>\n",
       "      <td>برشلونة - \"الخليج\":اختتمت الهيئة العامة لتنظيم...</td>\n",
       "      <td>Tech</td>\n",
       "    </tr>\n",
       "    <tr>\n",
       "      <th>45498</th>\n",
       "      <td>وثقت مركاتور، ذراع تكنولوجيا المعلومات في مجمو...</td>\n",
       "      <td>Tech</td>\n",
       "    </tr>\n",
       "    <tr>\n",
       "      <th>45499</th>\n",
       "      <td>اختارت لجنة تحكيم قمة قادة الأعمال محمد عمران ...</td>\n",
       "      <td>Tech</td>\n",
       "    </tr>\n",
       "  </tbody>\n",
       "</table>\n",
       "<p>45500 rows × 2 columns</p>\n",
       "</div>"
      ],
      "text/plain": [
       "                                               news_data category\n",
       "0      ينظم معهد الشارقة للفنون معرضاً فنياً تحت عنوا...  Culture\n",
       "1      تقيم الفنانة ليتا كابيلوت معرضاً في مطلع العام...  Culture\n",
       "2      تتواصل الليلة مسيرة التحدّي والمتعة والإثارة ض...  Culture\n",
       "3      عقدت ظهر أمس الأول في قصر الثقافة في الشارقة ا...  Culture\n",
       "4      اختارت صحيفة «التايمز» جورج أورويل ليحل في الم...  Culture\n",
       "...                                                  ...      ...\n",
       "45495  مع إسدال الستار على معرض جيتكس 2013 الدولي الم...     Tech\n",
       "45496  أبوظبي: «الخليج» حصل محمد نصر عابدين الرئيس ال...     Tech\n",
       "45497  برشلونة - \"الخليج\":اختتمت الهيئة العامة لتنظيم...     Tech\n",
       "45498  وثقت مركاتور، ذراع تكنولوجيا المعلومات في مجمو...     Tech\n",
       "45499  اختارت لجنة تحكيم قمة قادة الأعمال محمد عمران ...     Tech\n",
       "\n",
       "[45500 rows x 2 columns]"
      ]
     },
     "execution_count": 8,
     "metadata": {},
     "output_type": "execute_result"
    }
   ],
   "source": [
    "df1"
   ]
  },
  {
   "cell_type": "code",
   "execution_count": 9,
   "id": "diverse-client",
   "metadata": {},
   "outputs": [],
   "source": [
    "df1['category'] = df1['category'].replace(['Culture'],0)\n",
    "df1['category'] = df1['category'].replace(['Politics'],1)\n",
    "df1['category'] = df1['category'].replace(['Tech'],2)\n",
    "df1['category'] = df1['category'].replace(['Finance'],3)\n",
    "df1['category'] = df1['category'].replace(['Medical'],4)\n",
    "df1['category'] = df1['category'].replace(['Religion'],5)\n",
    "df1['category'] = df1['category'].replace(['Sports'],6)\n"
   ]
  },
  {
   "cell_type": "code",
   "execution_count": null,
   "id": "driving-strain",
   "metadata": {},
   "outputs": [],
   "source": [
    "import seaborn as sns"
   ]
  },
  {
   "cell_type": "code",
   "execution_count": 44,
   "id": "resident-michigan",
   "metadata": {},
   "outputs": [
    {
     "data": {
      "text/plain": [
       "<AxesSubplot:xlabel='category', ylabel='count'>"
      ]
     },
     "execution_count": 44,
     "metadata": {},
     "output_type": "execute_result"
    },
    {
     "data": {
      "image/png": "[encoded data removed]",
      "text/plain": [
       "<Figure size 432x288 with 1 Axes>"
      ]
     },
     "metadata": {
      "needs_background": "light"
     },
     "output_type": "display_data"
    }
   ],
   "source": [
    "sns.countplot(x='category',data=df1)"
   ]
  },
  {
   "cell_type": "code",
   "execution_count": null,
   "id": "assisted-lightweight",
   "metadata": {},
   "outputs": [],
   "source": []
  },
  {
   "cell_type": "code",
   "execution_count": 11,
   "id": "tropical-handle",
   "metadata": {},
   "outputs": [
    {
     "name": "stderr",
     "output_type": "stream",
     "text": [
      "[nltk_data] Downloading package stopwords to\n",
      "[nltk_data]     C:\\Users\\user\\AppData\\Roaming\\nltk_data...\n",
      "[nltk_data]   Package stopwords is already up-to-date!\n"
     ]
    },
    {
     "data": {
      "text/plain": [
       "True"
      ]
     },
     "execution_count": 11,
     "metadata": {},
     "output_type": "execute_result"
    }
   ],
   "source": [
    "import nltk\n",
    "nltk.download(\"stopwords\")"
   ]
  },
  {
   "cell_type": "code",
   "execution_count": 12,
   "id": "cardiac-graphics",
   "metadata": {},
   "outputs": [],
   "source": [
    "stopwords = nltk.corpus.stopwords.words(\"arabic\")"
   ]
  },
  {
   "cell_type": "code",
   "execution_count": 13,
   "id": "suburban-registrar",
   "metadata": {},
   "outputs": [
    {
     "data": {
      "text/plain": [
       "['إذ',\n",
       " 'إذا',\n",
       " 'إذما',\n",
       " 'إذن',\n",
       " 'أف',\n",
       " 'أقل',\n",
       " 'أكثر',\n",
       " 'ألا',\n",
       " 'إلا',\n",
       " 'التي',\n",
       " 'الذي',\n",
       " 'الذين',\n",
       " 'اللاتي',\n",
       " 'اللائي',\n",
       " 'اللتان',\n",
       " 'اللتيا',\n",
       " 'اللتين',\n",
       " 'اللذان',\n",
       " 'اللذين',\n",
       " 'اللواتي',\n",
       " 'إلى',\n",
       " 'إليك',\n",
       " 'إليكم',\n",
       " 'إليكما',\n",
       " 'إليكن',\n",
       " 'أم',\n",
       " 'أما',\n",
       " 'أما',\n",
       " 'إما',\n",
       " 'أن',\n",
       " 'إن',\n",
       " 'إنا',\n",
       " 'أنا',\n",
       " 'أنت',\n",
       " 'أنتم',\n",
       " 'أنتما',\n",
       " 'أنتن',\n",
       " 'إنما',\n",
       " 'إنه',\n",
       " 'أنى',\n",
       " 'أنى',\n",
       " 'آه',\n",
       " 'آها',\n",
       " 'أو',\n",
       " 'أولاء',\n",
       " 'أولئك',\n",
       " 'أوه',\n",
       " 'آي',\n",
       " 'أي',\n",
       " 'أيها',\n",
       " 'إي',\n",
       " 'أين',\n",
       " 'أين',\n",
       " 'أينما',\n",
       " 'إيه',\n",
       " 'بخ',\n",
       " 'بس',\n",
       " 'بعد',\n",
       " 'بعض',\n",
       " 'بك',\n",
       " 'بكم',\n",
       " 'بكم',\n",
       " 'بكما',\n",
       " 'بكن',\n",
       " 'بل',\n",
       " 'بلى',\n",
       " 'بما',\n",
       " 'بماذا',\n",
       " 'بمن',\n",
       " 'بنا',\n",
       " 'به',\n",
       " 'بها',\n",
       " 'بهم',\n",
       " 'بهما',\n",
       " 'بهن',\n",
       " 'بي',\n",
       " 'بين',\n",
       " 'بيد',\n",
       " 'تلك',\n",
       " 'تلكم',\n",
       " 'تلكما',\n",
       " 'ته',\n",
       " 'تي',\n",
       " 'تين',\n",
       " 'تينك',\n",
       " 'ثم',\n",
       " 'ثمة',\n",
       " 'حاشا',\n",
       " 'حبذا',\n",
       " 'حتى',\n",
       " 'حيث',\n",
       " 'حيثما',\n",
       " 'حين',\n",
       " 'خلا',\n",
       " 'دون',\n",
       " 'ذا',\n",
       " 'ذات',\n",
       " 'ذاك',\n",
       " 'ذان',\n",
       " 'ذانك',\n",
       " 'ذلك',\n",
       " 'ذلكم',\n",
       " 'ذلكما',\n",
       " 'ذلكن',\n",
       " 'ذه',\n",
       " 'ذو',\n",
       " 'ذوا',\n",
       " 'ذواتا',\n",
       " 'ذواتي',\n",
       " 'ذي',\n",
       " 'ذين',\n",
       " 'ذينك',\n",
       " 'ريث',\n",
       " 'سوف',\n",
       " 'سوى',\n",
       " 'شتان',\n",
       " 'عدا',\n",
       " 'عسى',\n",
       " 'عل',\n",
       " 'على',\n",
       " 'عليك',\n",
       " 'عليه',\n",
       " 'عما',\n",
       " 'عن',\n",
       " 'عند',\n",
       " 'غير',\n",
       " 'فإذا',\n",
       " 'فإن',\n",
       " 'فلا',\n",
       " 'فمن',\n",
       " 'في',\n",
       " 'فيم',\n",
       " 'فيما',\n",
       " 'فيه',\n",
       " 'فيها',\n",
       " 'قد',\n",
       " 'كأن',\n",
       " 'كأنما',\n",
       " 'كأي',\n",
       " 'كأين',\n",
       " 'كذا',\n",
       " 'كذلك',\n",
       " 'كل',\n",
       " 'كلا',\n",
       " 'كلاهما',\n",
       " 'كلتا',\n",
       " 'كلما',\n",
       " 'كليكما',\n",
       " 'كليهما',\n",
       " 'كم',\n",
       " 'كم',\n",
       " 'كما',\n",
       " 'كي',\n",
       " 'كيت',\n",
       " 'كيف',\n",
       " 'كيفما',\n",
       " 'لا',\n",
       " 'لاسيما',\n",
       " 'لدى',\n",
       " 'لست',\n",
       " 'لستم',\n",
       " 'لستما',\n",
       " 'لستن',\n",
       " 'لسن',\n",
       " 'لسنا',\n",
       " 'لعل',\n",
       " 'لك',\n",
       " 'لكم',\n",
       " 'لكما',\n",
       " 'لكن',\n",
       " 'لكنما',\n",
       " 'لكي',\n",
       " 'لكيلا',\n",
       " 'لم',\n",
       " 'لما',\n",
       " 'لن',\n",
       " 'لنا',\n",
       " 'له',\n",
       " 'لها',\n",
       " 'لهم',\n",
       " 'لهما',\n",
       " 'لهن',\n",
       " 'لو',\n",
       " 'لولا',\n",
       " 'لوما',\n",
       " 'لي',\n",
       " 'لئن',\n",
       " 'ليت',\n",
       " 'ليس',\n",
       " 'ليسا',\n",
       " 'ليست',\n",
       " 'ليستا',\n",
       " 'ليسوا',\n",
       " 'ما',\n",
       " 'ماذا',\n",
       " 'متى',\n",
       " 'مذ',\n",
       " 'مع',\n",
       " 'مما',\n",
       " 'ممن',\n",
       " 'من',\n",
       " 'منه',\n",
       " 'منها',\n",
       " 'منذ',\n",
       " 'مه',\n",
       " 'مهما',\n",
       " 'نحن',\n",
       " 'نحو',\n",
       " 'نعم',\n",
       " 'ها',\n",
       " 'هاتان',\n",
       " 'هاته',\n",
       " 'هاتي',\n",
       " 'هاتين',\n",
       " 'هاك',\n",
       " 'هاهنا',\n",
       " 'هذا',\n",
       " 'هذان',\n",
       " 'هذه',\n",
       " 'هذي',\n",
       " 'هذين',\n",
       " 'هكذا',\n",
       " 'هل',\n",
       " 'هلا',\n",
       " 'هم',\n",
       " 'هما',\n",
       " 'هن',\n",
       " 'هنا',\n",
       " 'هناك',\n",
       " 'هنالك',\n",
       " 'هو',\n",
       " 'هؤلاء',\n",
       " 'هي',\n",
       " 'هيا',\n",
       " 'هيت',\n",
       " 'هيهات',\n",
       " 'والذي',\n",
       " 'والذين',\n",
       " 'وإذ',\n",
       " 'وإذا',\n",
       " 'وإن',\n",
       " 'ولا',\n",
       " 'ولكن',\n",
       " 'ولو',\n",
       " 'وما',\n",
       " 'ومن',\n",
       " 'وهو',\n",
       " 'يا']"
      ]
     },
     "execution_count": 13,
     "metadata": {},
     "output_type": "execute_result"
    }
   ],
   "source": [
    "stopwords"
   ]
  },
  {
   "cell_type": "code",
   "execution_count": 14,
   "id": "efficient-champagne",
   "metadata": {},
   "outputs": [],
   "source": [
    "list11=[]"
   ]
  },
  {
   "cell_type": "code",
   "execution_count": 15,
   "id": "tamil-compensation",
   "metadata": {},
   "outputs": [],
   "source": [
    "for i in df1.news_data:\n",
    "    s=''\n",
    "    for j in i.split():\n",
    "        if j not in stopwords: \n",
    "            s=s+j+' '\n",
    "    list11.append(s)            "
   ]
  },
  {
   "cell_type": "code",
   "execution_count": 16,
   "id": "vertical-complement",
   "metadata": {},
   "outputs": [
    {
     "data": {
      "text/plain": [
       "'ينظم معهد الشارقة للفنون معرضاً فنياً تحت عنوان باقة الفن، وذلك الساعة السابعة مساء اليوم مقر المعهد منطقة الفنون حي الشويهين الشارقة، وتتلاقى المعرض إبداعات 62 طالباً المنتسبين للدراسة المعهد كافة التخصصات الفنية . '"
      ]
     },
     "execution_count": 16,
     "metadata": {},
     "output_type": "execute_result"
    }
   ],
   "source": [
    "list11[0]"
   ]
  },
  {
   "cell_type": "code",
   "execution_count": 17,
   "id": "previous-issue",
   "metadata": {},
   "outputs": [
    {
     "data": {
      "text/plain": [
       "34"
      ]
     },
     "execution_count": 17,
     "metadata": {},
     "output_type": "execute_result"
    }
   ],
   "source": [
    "len(list11[0].split())"
   ]
  },
  {
   "cell_type": "code",
   "execution_count": 18,
   "id": "colored-maldives",
   "metadata": {},
   "outputs": [
    {
     "data": {
      "text/plain": [
       "44"
      ]
     },
     "execution_count": 18,
     "metadata": {},
     "output_type": "execute_result"
    }
   ],
   "source": [
    "len(df1.news_data[0].split())"
   ]
  },
  {
   "cell_type": "code",
   "execution_count": 19,
   "id": "going-ground",
   "metadata": {},
   "outputs": [],
   "source": [
    "df1.news_data=list11"
   ]
  },
  {
   "cell_type": "code",
   "execution_count": 20,
   "id": "strange-shock",
   "metadata": {},
   "outputs": [
    {
     "data": {
      "text/plain": [
       "'ينظم معهد الشارقة للفنون معرضاً فنياً تحت عنوان باقة الفن، وذلك الساعة السابعة مساء اليوم مقر المعهد منطقة الفنون حي الشويهين الشارقة، وتتلاقى المعرض إبداعات 62 طالباً المنتسبين للدراسة المعهد كافة التخصصات الفنية . '"
      ]
     },
     "execution_count": 20,
     "metadata": {},
     "output_type": "execute_result"
    }
   ],
   "source": [
    "df1.news_data[0]"
   ]
  },
  {
   "cell_type": "code",
   "execution_count": 21,
   "id": "necessary-negotiation",
   "metadata": {},
   "outputs": [
    {
     "data": {
      "text/html": [
       "<div>\n",
       "<style scoped>\n",
       "    .dataframe tbody tr th:only-of-type {\n",
       "        vertical-align: middle;\n",
       "    }\n",
       "\n",
       "    .dataframe tbody tr th {\n",
       "        vertical-align: top;\n",
       "    }\n",
       "\n",
       "    .dataframe thead th {\n",
       "        text-align: right;\n",
       "    }\n",
       "</style>\n",
       "<table border=\"1\" class=\"dataframe\">\n",
       "  <thead>\n",
       "    <tr style=\"text-align: right;\">\n",
       "      <th></th>\n",
       "      <th>news_data</th>\n",
       "      <th>category</th>\n",
       "    </tr>\n",
       "  </thead>\n",
       "  <tbody>\n",
       "    <tr>\n",
       "      <th>0</th>\n",
       "      <td>ينظم معهد الشارقة للفنون معرضاً فنياً تحت عنوا...</td>\n",
       "      <td>0</td>\n",
       "    </tr>\n",
       "    <tr>\n",
       "      <th>1</th>\n",
       "      <td>تقيم الفنانة ليتا كابيلوت معرضاً مطلع العام ال...</td>\n",
       "      <td>0</td>\n",
       "    </tr>\n",
       "    <tr>\n",
       "      <th>2</th>\n",
       "      <td>تتواصل الليلة مسيرة التحدّي والمتعة والإثارة ض...</td>\n",
       "      <td>0</td>\n",
       "    </tr>\n",
       "    <tr>\n",
       "      <th>3</th>\n",
       "      <td>عقدت ظهر أمس الأول قصر الثقافة الشارقة الجلسة ...</td>\n",
       "      <td>0</td>\n",
       "    </tr>\n",
       "    <tr>\n",
       "      <th>4</th>\n",
       "      <td>اختارت صحيفة «التايمز» جورج أورويل ليحل المرتب...</td>\n",
       "      <td>0</td>\n",
       "    </tr>\n",
       "    <tr>\n",
       "      <th>...</th>\n",
       "      <td>...</td>\n",
       "      <td>...</td>\n",
       "    </tr>\n",
       "    <tr>\n",
       "      <th>45495</th>\n",
       "      <td>إسدال الستار معرض جيتكس 2013 الدولي المتخصص تك...</td>\n",
       "      <td>2</td>\n",
       "    </tr>\n",
       "    <tr>\n",
       "      <th>45496</th>\n",
       "      <td>أبوظبي: «الخليج» حصل محمد نصر عابدين الرئيس ال...</td>\n",
       "      <td>2</td>\n",
       "    </tr>\n",
       "    <tr>\n",
       "      <th>45497</th>\n",
       "      <td>برشلونة - \"الخليج\":اختتمت الهيئة العامة لتنظيم...</td>\n",
       "      <td>2</td>\n",
       "    </tr>\n",
       "    <tr>\n",
       "      <th>45498</th>\n",
       "      <td>وثقت مركاتور، ذراع تكنولوجيا المعلومات مجموعة ...</td>\n",
       "      <td>2</td>\n",
       "    </tr>\n",
       "    <tr>\n",
       "      <th>45499</th>\n",
       "      <td>اختارت لجنة تحكيم قمة قادة الأعمال محمد عمران ...</td>\n",
       "      <td>2</td>\n",
       "    </tr>\n",
       "  </tbody>\n",
       "</table>\n",
       "<p>45500 rows × 2 columns</p>\n",
       "</div>"
      ],
      "text/plain": [
       "                                               news_data  category\n",
       "0      ينظم معهد الشارقة للفنون معرضاً فنياً تحت عنوا...         0\n",
       "1      تقيم الفنانة ليتا كابيلوت معرضاً مطلع العام ال...         0\n",
       "2      تتواصل الليلة مسيرة التحدّي والمتعة والإثارة ض...         0\n",
       "3      عقدت ظهر أمس الأول قصر الثقافة الشارقة الجلسة ...         0\n",
       "4      اختارت صحيفة «التايمز» جورج أورويل ليحل المرتب...         0\n",
       "...                                                  ...       ...\n",
       "45495  إسدال الستار معرض جيتكس 2013 الدولي المتخصص تك...         2\n",
       "45496  أبوظبي: «الخليج» حصل محمد نصر عابدين الرئيس ال...         2\n",
       "45497  برشلونة - \"الخليج\":اختتمت الهيئة العامة لتنظيم...         2\n",
       "45498  وثقت مركاتور، ذراع تكنولوجيا المعلومات مجموعة ...         2\n",
       "45499  اختارت لجنة تحكيم قمة قادة الأعمال محمد عمران ...         2\n",
       "\n",
       "[45500 rows x 2 columns]"
      ]
     },
     "execution_count": 21,
     "metadata": {},
     "output_type": "execute_result"
    }
   ],
   "source": [
    "df1"
   ]
  },
  {
   "cell_type": "code",
   "execution_count": 40,
   "id": "silver-reset",
   "metadata": {},
   "outputs": [],
   "source": [
    "\n"
   ]
  },
  {
   "cell_type": "code",
   "execution_count": null,
   "id": "supported-seventh",
   "metadata": {},
   "outputs": [],
   "source": []
  },
  {
   "cell_type": "code",
   "execution_count": 23,
   "id": "married-barcelona",
   "metadata": {},
   "outputs": [],
   "source": [
    "df1.to_csv('clean_data.csv')"
   ]
  },
  {
   "cell_type": "code",
   "execution_count": 24,
   "id": "fallen-tablet",
   "metadata": {},
   "outputs": [],
   "source": [
    "df2 = df1.sample(frac = 1)"
   ]
  },
  {
   "cell_type": "code",
   "execution_count": 25,
   "id": "distinct-cutting",
   "metadata": {},
   "outputs": [
    {
     "data": {
      "text/html": [
       "<div>\n",
       "<style scoped>\n",
       "    .dataframe tbody tr th:only-of-type {\n",
       "        vertical-align: middle;\n",
       "    }\n",
       "\n",
       "    .dataframe tbody tr th {\n",
       "        vertical-align: top;\n",
       "    }\n",
       "\n",
       "    .dataframe thead th {\n",
       "        text-align: right;\n",
       "    }\n",
       "</style>\n",
       "<table border=\"1\" class=\"dataframe\">\n",
       "  <thead>\n",
       "    <tr style=\"text-align: right;\">\n",
       "      <th></th>\n",
       "      <th>news_data</th>\n",
       "      <th>category</th>\n",
       "    </tr>\n",
       "  </thead>\n",
       "  <tbody>\n",
       "    <tr>\n",
       "      <th>23218</th>\n",
       "      <td>أبوظبي - مريم عدنان: استأصل فريق طبي بقسم جراح...</td>\n",
       "      <td>4</td>\n",
       "    </tr>\n",
       "    <tr>\n",
       "      <th>32485</th>\n",
       "      <td>أعاد سهم مصرف عجمان الحيوية سوق دبي اليوم الأو...</td>\n",
       "      <td>3</td>\n",
       "    </tr>\n",
       "    <tr>\n",
       "      <th>14903</th>\n",
       "      <td>قال بول ديكوف مدرب دونكاستر روفرز «لم يفكر مرت...</td>\n",
       "      <td>6</td>\n",
       "    </tr>\n",
       "    <tr>\n",
       "      <th>36343</th>\n",
       "      <td>د. عارف الشيخ سورة الفاتحة أول سورة القرآن الك...</td>\n",
       "      <td>5</td>\n",
       "    </tr>\n",
       "    <tr>\n",
       "      <th>25890</th>\n",
       "      <td>دبي - \"الخليج\":طالبت الجلسة الحوارية، نظمتها ج...</td>\n",
       "      <td>4</td>\n",
       "    </tr>\n",
       "    <tr>\n",
       "      <th>...</th>\n",
       "      <td>...</td>\n",
       "      <td>...</td>\n",
       "    </tr>\n",
       "    <tr>\n",
       "      <th>11939</th>\n",
       "      <td>دعا ابن شقيق الرئيس المصري الراحل عفت السادات،...</td>\n",
       "      <td>1</td>\n",
       "    </tr>\n",
       "    <tr>\n",
       "      <th>26679</th>\n",
       "      <td>قالت شركة أبوظبي الوطنية للطاقة (طاقة) إنها تد...</td>\n",
       "      <td>3</td>\n",
       "    </tr>\n",
       "    <tr>\n",
       "      <th>33061</th>\n",
       "      <td>زوج فاسد * ‬زوجي‮ ‬يستضيف أصدقائه في‮ ‬منزل ال...</td>\n",
       "      <td>5</td>\n",
       "    </tr>\n",
       "    <tr>\n",
       "      <th>41208</th>\n",
       "      <td>عرضت شركة بيرسون فيو، آخر انجازاتها مجال الاخت...</td>\n",
       "      <td>2</td>\n",
       "    </tr>\n",
       "    <tr>\n",
       "      <th>29747</th>\n",
       "      <td>أبوظبي - \"الخليج\":ارتفع مؤشر سوق الإمارات الما...</td>\n",
       "      <td>3</td>\n",
       "    </tr>\n",
       "  </tbody>\n",
       "</table>\n",
       "<p>45500 rows × 2 columns</p>\n",
       "</div>"
      ],
      "text/plain": [
       "                                               news_data  category\n",
       "23218  أبوظبي - مريم عدنان: استأصل فريق طبي بقسم جراح...         4\n",
       "32485  أعاد سهم مصرف عجمان الحيوية سوق دبي اليوم الأو...         3\n",
       "14903  قال بول ديكوف مدرب دونكاستر روفرز «لم يفكر مرت...         6\n",
       "36343  د. عارف الشيخ سورة الفاتحة أول سورة القرآن الك...         5\n",
       "25890  دبي - \"الخليج\":طالبت الجلسة الحوارية، نظمتها ج...         4\n",
       "...                                                  ...       ...\n",
       "11939  دعا ابن شقيق الرئيس المصري الراحل عفت السادات،...         1\n",
       "26679  قالت شركة أبوظبي الوطنية للطاقة (طاقة) إنها تد...         3\n",
       "33061  زوج فاسد * ‬زوجي‮ ‬يستضيف أصدقائه في‮ ‬منزل ال...         5\n",
       "41208  عرضت شركة بيرسون فيو، آخر انجازاتها مجال الاخت...         2\n",
       "29747  أبوظبي - \"الخليج\":ارتفع مؤشر سوق الإمارات الما...         3\n",
       "\n",
       "[45500 rows x 2 columns]"
      ]
     },
     "execution_count": 25,
     "metadata": {},
     "output_type": "execute_result"
    }
   ],
   "source": [
    "df2"
   ]
  },
  {
   "cell_type": "code",
   "execution_count": 26,
   "id": "raising-branch",
   "metadata": {},
   "outputs": [],
   "source": [
    "x=df2.news_data"
   ]
  },
  {
   "cell_type": "code",
   "execution_count": 27,
   "id": "portuguese-reviewer",
   "metadata": {},
   "outputs": [],
   "source": [
    "y=df2.category"
   ]
  },
  {
   "cell_type": "code",
   "execution_count": 28,
   "id": "enclosed-decision",
   "metadata": {},
   "outputs": [],
   "source": [
    "from sklearn.model_selection import train_test_split"
   ]
  },
  {
   "cell_type": "code",
   "execution_count": 29,
   "id": "underlying-segment",
   "metadata": {},
   "outputs": [],
   "source": [
    "from sklearn.feature_extraction.text import TfidfVectorizer"
   ]
  },
  {
   "cell_type": "code",
   "execution_count": 30,
   "id": "regular-electric",
   "metadata": {},
   "outputs": [],
   "source": [
    "vectorizer = TfidfVectorizer()\n",
    "vect = vectorizer.fit_transform(df2.news_data)"
   ]
  },
  {
   "cell_type": "code",
   "execution_count": 31,
   "id": "passive-memorabilia",
   "metadata": {},
   "outputs": [],
   "source": [
    " from sklearn.naive_bayes import MultinomialNB"
   ]
  },
  {
   "cell_type": "code",
   "execution_count": 32,
   "id": "rough-modern",
   "metadata": {},
   "outputs": [],
   "source": [
    "from sklearn.model_selection import train_test_split"
   ]
  },
  {
   "cell_type": "code",
   "execution_count": 33,
   "id": "linear-czech",
   "metadata": {},
   "outputs": [],
   "source": [
    "x_train, x_test, y_train, y_test = train_test_split(vect, y, test_size=0.20)"
   ]
  },
  {
   "cell_type": "code",
   "execution_count": 34,
   "id": "driving-techno",
   "metadata": {},
   "outputs": [
    {
     "data": {
      "text/plain": [
       "MultinomialNB()"
      ]
     },
     "execution_count": 34,
     "metadata": {},
     "output_type": "execute_result"
    }
   ],
   "source": [
    "clf = MultinomialNB()\n",
    "clf.fit(x_train, y_train)"
   ]
  },
  {
   "cell_type": "code",
   "execution_count": 35,
   "id": "great-bristol",
   "metadata": {},
   "outputs": [],
   "source": [
    "pred=clf.predict(x_test)"
   ]
  },
  {
   "cell_type": "code",
   "execution_count": 36,
   "id": "fluid-england",
   "metadata": {},
   "outputs": [],
   "source": [
    "from sklearn.metrics import confusion_matrix\n"
   ]
  },
  {
   "cell_type": "code",
   "execution_count": 37,
   "id": "native-trinidad",
   "metadata": {},
   "outputs": [],
   "source": [
    "from sklearn.metrics import classification_report"
   ]
  },
  {
   "cell_type": "code",
   "execution_count": 38,
   "id": "twenty-identification",
   "metadata": {},
   "outputs": [
    {
     "name": "stdout",
     "output_type": "stream",
     "text": [
      "              precision    recall  f1-score   support\n",
      "\n",
      "           0       0.95      0.94      0.95      1325\n",
      "           1       0.98      0.96      0.97      1314\n",
      "           2       0.92      0.98      0.95      1290\n",
      "           3       0.99      0.93      0.96      1320\n",
      "           4       0.94      0.99      0.96      1231\n",
      "           5       0.95      0.94      0.94      1301\n",
      "           6       1.00      0.99      0.99      1319\n",
      "\n",
      "    accuracy                           0.96      9100\n",
      "   macro avg       0.96      0.96      0.96      9100\n",
      "weighted avg       0.96      0.96      0.96      9100\n",
      "\n"
     ]
    }
   ],
   "source": [
    "print(classification_report(y_test,pred))"
   ]
  },
  {
   "cell_type": "code",
   "execution_count": null,
   "id": "sensitive-paragraph",
   "metadata": {},
   "outputs": [],
   "source": []
  }
 ],
 "metadata": {
  "kernelspec": {
   "display_name": "Python 3",
   "language": "python",
   "name": "python3"
  },
  "language_info": {
   "codemirror_mode": {
    "name": "ipython",
    "version": 3
   },
   "file_extension": ".py",
   "mimetype": "text/x-python",
   "name": "python",
   "nbconvert_exporter": "python",
   "pygments_lexer": "ipython3",
   "version": "3.8.5"
  }
 },
 "nbformat": 4,
 "nbformat_minor": 5
}
